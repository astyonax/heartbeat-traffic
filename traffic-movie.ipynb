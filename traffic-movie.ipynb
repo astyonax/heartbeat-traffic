{
 "cells": [
  {
   "cell_type": "code",
   "execution_count": 1,
   "metadata": {
    "collapsed": true
   },
   "outputs": [],
   "source": [
    "from cartopy import crs\n",
    "import pylab as plt\n",
    "import pandas as pd\n",
    "import numpy as np\n",
    "import os"
   ]
  },
  {
   "cell_type": "code",
   "execution_count": 2,
   "metadata": {},
   "outputs": [
    {
     "data": {
      "text/html": [
       "<div>\n",
       "<style>\n",
       "    .dataframe thead tr:only-child th {\n",
       "        text-align: right;\n",
       "    }\n",
       "\n",
       "    .dataframe thead th {\n",
       "        text-align: left;\n",
       "    }\n",
       "\n",
       "    .dataframe tbody tr th {\n",
       "        vertical-align: top;\n",
       "    }\n",
       "</style>\n",
       "<table border=\"1\" class=\"dataframe\">\n",
       "  <thead>\n",
       "    <tr style=\"text-align: right;\">\n",
       "      <th></th>\n",
       "      <th></th>\n",
       "      <th>hour</th>\n",
       "      <th>month</th>\n",
       "      <th>id_arc_trafic</th>\n",
       "      <th>AVG(debit)</th>\n",
       "      <th>AVG(taux)</th>\n",
       "      <th>lat</th>\n",
       "      <th>lon</th>\n",
       "      <th>lndebit</th>\n",
       "      <th>time</th>\n",
       "      <th>dlo25</th>\n",
       "      <th>dla25</th>\n",
       "      <th>dlo50</th>\n",
       "      <th>dla50</th>\n",
       "      <th>dlo75</th>\n",
       "      <th>dla75</th>\n",
       "    </tr>\n",
       "    <tr>\n",
       "      <th>id_arc_trafic</th>\n",
       "      <th></th>\n",
       "      <th></th>\n",
       "      <th></th>\n",
       "      <th></th>\n",
       "      <th></th>\n",
       "      <th></th>\n",
       "      <th></th>\n",
       "      <th></th>\n",
       "      <th></th>\n",
       "      <th></th>\n",
       "      <th></th>\n",
       "      <th></th>\n",
       "      <th></th>\n",
       "      <th></th>\n",
       "      <th></th>\n",
       "      <th></th>\n",
       "    </tr>\n",
       "  </thead>\n",
       "  <tbody>\n",
       "    <tr>\n",
       "      <th rowspan=\"5\" valign=\"top\">1</th>\n",
       "      <th>0</th>\n",
       "      <td>0</td>\n",
       "      <td>1</td>\n",
       "      <td>1</td>\n",
       "      <td>1188.714286</td>\n",
       "      <td>4.638207</td>\n",
       "      <td>48.859838</td>\n",
       "      <td>2.334242</td>\n",
       "      <td>4.121122</td>\n",
       "      <td>100</td>\n",
       "      <td>13</td>\n",
       "      <td>12</td>\n",
       "      <td>25</td>\n",
       "      <td>24</td>\n",
       "      <td>38</td>\n",
       "      <td>37</td>\n",
       "    </tr>\n",
       "    <tr>\n",
       "      <th>93</th>\n",
       "      <td>0</td>\n",
       "      <td>2</td>\n",
       "      <td>1</td>\n",
       "      <td>1261.829268</td>\n",
       "      <td>5.031917</td>\n",
       "      <td>48.859838</td>\n",
       "      <td>2.334242</td>\n",
       "      <td>4.170615</td>\n",
       "      <td>200</td>\n",
       "      <td>13</td>\n",
       "      <td>12</td>\n",
       "      <td>25</td>\n",
       "      <td>24</td>\n",
       "      <td>38</td>\n",
       "      <td>37</td>\n",
       "    </tr>\n",
       "    <tr>\n",
       "      <th>186</th>\n",
       "      <td>0</td>\n",
       "      <td>3</td>\n",
       "      <td>1</td>\n",
       "      <td>1468.347826</td>\n",
       "      <td>4.730384</td>\n",
       "      <td>48.859838</td>\n",
       "      <td>2.334242</td>\n",
       "      <td>4.298984</td>\n",
       "      <td>300</td>\n",
       "      <td>13</td>\n",
       "      <td>12</td>\n",
       "      <td>25</td>\n",
       "      <td>24</td>\n",
       "      <td>38</td>\n",
       "      <td>37</td>\n",
       "    </tr>\n",
       "    <tr>\n",
       "      <th>79</th>\n",
       "      <td>0</td>\n",
       "      <td>4</td>\n",
       "      <td>1</td>\n",
       "      <td>1106.285714</td>\n",
       "      <td>5.214193</td>\n",
       "      <td>48.859838</td>\n",
       "      <td>2.334242</td>\n",
       "      <td>4.062314</td>\n",
       "      <td>400</td>\n",
       "      <td>13</td>\n",
       "      <td>12</td>\n",
       "      <td>25</td>\n",
       "      <td>24</td>\n",
       "      <td>38</td>\n",
       "      <td>37</td>\n",
       "    </tr>\n",
       "    <tr>\n",
       "      <th>165</th>\n",
       "      <td>0</td>\n",
       "      <td>5</td>\n",
       "      <td>1</td>\n",
       "      <td>1452.818182</td>\n",
       "      <td>6.927379</td>\n",
       "      <td>48.859838</td>\n",
       "      <td>2.334242</td>\n",
       "      <td>4.289851</td>\n",
       "      <td>500</td>\n",
       "      <td>13</td>\n",
       "      <td>12</td>\n",
       "      <td>25</td>\n",
       "      <td>24</td>\n",
       "      <td>38</td>\n",
       "      <td>37</td>\n",
       "    </tr>\n",
       "  </tbody>\n",
       "</table>\n",
       "</div>"
      ],
      "text/plain": [
       "                   hour  month  id_arc_trafic   AVG(debit)  AVG(taux)  \\\n",
       "id_arc_trafic                                                           \n",
       "1             0       0      1              1  1188.714286   4.638207   \n",
       "              93      0      2              1  1261.829268   5.031917   \n",
       "              186     0      3              1  1468.347826   4.730384   \n",
       "              79      0      4              1  1106.285714   5.214193   \n",
       "              165     0      5              1  1452.818182   6.927379   \n",
       "\n",
       "                         lat       lon   lndebit  time  dlo25  dla25  dlo50  \\\n",
       "id_arc_trafic                                                                 \n",
       "1             0    48.859838  2.334242  4.121122   100     13     12     25   \n",
       "              93   48.859838  2.334242  4.170615   200     13     12     25   \n",
       "              186  48.859838  2.334242  4.298984   300     13     12     25   \n",
       "              79   48.859838  2.334242  4.062314   400     13     12     25   \n",
       "              165  48.859838  2.334242  4.289851   500     13     12     25   \n",
       "\n",
       "                   dla50  dlo75  dla75  \n",
       "id_arc_trafic                           \n",
       "1             0       24     38     37  \n",
       "              93      24     38     37  \n",
       "              186     24     38     37  \n",
       "              79      24     38     37  \n",
       "              165     24     38     37  "
      ]
     },
     "execution_count": 2,
     "metadata": {},
     "output_type": "execute_result"
    }
   ],
   "source": [
    "df = pd.read_pickle('data/traffic_preprocessed.pkl')\n",
    "df.head()"
   ]
  },
  {
   "cell_type": "code",
   "execution_count": 3,
   "metadata": {},
   "outputs": [
    {
     "data": {
      "text/html": [
       "<div>\n",
       "<style>\n",
       "    .dataframe thead tr:only-child th {\n",
       "        text-align: right;\n",
       "    }\n",
       "\n",
       "    .dataframe thead th {\n",
       "        text-align: left;\n",
       "    }\n",
       "\n",
       "    .dataframe tbody tr th {\n",
       "        vertical-align: top;\n",
       "    }\n",
       "</style>\n",
       "<table border=\"1\" class=\"dataframe\">\n",
       "  <thead>\n",
       "    <tr style=\"text-align: right;\">\n",
       "      <th></th>\n",
       "      <th></th>\n",
       "      <th></th>\n",
       "      <th></th>\n",
       "      <th>lat</th>\n",
       "      <th>AVG(taux)</th>\n",
       "      <th>lon</th>\n",
       "      <th>AVG(debit)</th>\n",
       "      <th>time</th>\n",
       "    </tr>\n",
       "    <tr>\n",
       "      <th>hour</th>\n",
       "      <th>month</th>\n",
       "      <th>dlo25</th>\n",
       "      <th>dla25</th>\n",
       "      <th></th>\n",
       "      <th></th>\n",
       "      <th></th>\n",
       "      <th></th>\n",
       "      <th></th>\n",
       "    </tr>\n",
       "  </thead>\n",
       "  <tbody>\n",
       "    <tr>\n",
       "      <th rowspan=\"5\" valign=\"top\">0</th>\n",
       "      <th rowspan=\"5\" valign=\"top\">1</th>\n",
       "      <th>0</th>\n",
       "      <th>10</th>\n",
       "      <td>48.865882</td>\n",
       "      <td>0.957055</td>\n",
       "      <td>2.418085</td>\n",
       "      <td>304.571429</td>\n",
       "      <td>100</td>\n",
       "    </tr>\n",
       "    <tr>\n",
       "      <th rowspan=\"4\" valign=\"top\">1</th>\n",
       "      <th>8</th>\n",
       "      <td>48.874043</td>\n",
       "      <td>6.193939</td>\n",
       "      <td>2.411269</td>\n",
       "      <td>6582.333333</td>\n",
       "      <td>100</td>\n",
       "    </tr>\n",
       "    <tr>\n",
       "      <th>9</th>\n",
       "      <td>48.870609</td>\n",
       "      <td>6.066761</td>\n",
       "      <td>2.413245</td>\n",
       "      <td>3409.523810</td>\n",
       "      <td>100</td>\n",
       "    </tr>\n",
       "    <tr>\n",
       "      <th>10</th>\n",
       "      <td>48.866809</td>\n",
       "      <td>1.804781</td>\n",
       "      <td>2.413973</td>\n",
       "      <td>767.428571</td>\n",
       "      <td>100</td>\n",
       "    </tr>\n",
       "    <tr>\n",
       "      <th>11</th>\n",
       "      <td>48.864982</td>\n",
       "      <td>4.341600</td>\n",
       "      <td>2.414442</td>\n",
       "      <td>4801.452381</td>\n",
       "      <td>100</td>\n",
       "    </tr>\n",
       "  </tbody>\n",
       "</table>\n",
       "</div>"
      ],
      "text/plain": [
       "                              lat  AVG(taux)       lon   AVG(debit)  time\n",
       "hour month dlo25 dla25                                                   \n",
       "0    1     0     10     48.865882   0.957055  2.418085   304.571429   100\n",
       "           1     8      48.874043   6.193939  2.411269  6582.333333   100\n",
       "                 9      48.870609   6.066761  2.413245  3409.523810   100\n",
       "                 10     48.866809   1.804781  2.413973   767.428571   100\n",
       "                 11     48.864982   4.341600  2.414442  4801.452381   100"
      ]
     },
     "execution_count": 3,
     "metadata": {},
     "output_type": "execute_result"
    }
   ],
   "source": [
    "df2 = df.groupby(['hour','month','dlo25','dla25']).agg({'AVG(debit)':'sum','AVG(taux)':'mean','lat':'mean','lon':'mean','time':'mean'})\n",
    "df2.columns = df2.columns.get_level_values(0)\n",
    "df2.head()"
   ]
  },
  {
   "cell_type": "code",
   "execution_count": 4,
   "metadata": {
    "collapsed": true
   },
   "outputs": [],
   "source": [
    "# Thresholding for better visualization\n",
    "trh = 15000\n",
    "df2.loc[df2['AVG(debit)']>trh,'AVG(debit)']=trh\n",
    "# Save extents\n",
    "DLO = df.lon.max(),df.lon.min()\n",
    "DLA = df.lat.max(),df.lat.min()"
   ]
  },
  {
   "cell_type": "code",
   "execution_count": 5,
   "metadata": {},
   "outputs": [
    {
     "name": "stdout",
     "output_type": "stream",
     "text": [
      "Populating the interactive namespace from numpy and matplotlib\n"
     ]
    },
    {
     "name": "stderr",
     "output_type": "stream",
     "text": [
      "/home/astyonax/.anaconda/lib/python2.7/site-packages/IPython/core/magics/pylab.py:161: UserWarning: pylab import has clobbered these variables: ['plt']\n",
      "`%matplotlib` prevents importing * from pylab and numpy\n",
      "  \"\\n`%matplotlib` prevents importing * from pylab and numpy\"\n"
     ]
    }
   ],
   "source": [
    "%pylab inline\n",
    "from matplotlib.font_manager import FontProperties\n",
    "from cartopy.io.img_tiles import OSM,StamenTerrain,GoogleTiles\n",
    "from scipy.interpolate import griddata\n",
    "from tqdm import tqdm_notebook as tqdm\n",
    "font0 = FontProperties()\n",
    "font0.set_family('serif')\n",
    "font0.set_name('ubuntu')"
   ]
  },
  {
   "cell_type": "code",
   "execution_count": 6,
   "metadata": {
    "collapsed": true
   },
   "outputs": [],
   "source": [
    "class StamenToner(GoogleTiles):\n",
    "    def _image_url(self, tile):\n",
    "        x, y, z = tile\n",
    "        url = 'http://tile.stamen.com/toner/{}/{}/{}.png'.format(z, x, y)\n",
    "        return url\n",
    "    \n",
    "imagery = OSM()\n",
    "imagery = StamenToner()\n",
    "# imagery = StamenTerrain()\n",
    "# imagery = GoogleTiles()"
   ]
  },
  {
   "cell_type": "markdown",
   "metadata": {},
   "source": [
    "**Nota bene** Plotting with the background map is slow, too slow to render each frame. \n",
    "The solution is to render the background map once for all and store it to a file (*traffic_frames/mapST.jpg*) in my case.\n",
    "Then the actual points are rendered on another figure, and saved with transparent background (see code, it's not super intuitive because you have to set multiple layers to be transparent). Since every figure and axis is created with the same properties (figsize, extent, and dpi) the actual overlay is trivial and performed on the fly by a call to `convert`.\n",
    "I use `os.system` to KISS.\n",
    "Finally, because we will use `ffmpeg` to transform the resulting frames into a movie, the frame filename follows a strict naming code that is then feeded to `ffmpeg` itself."
   ]
  },
  {
   "cell_type": "code",
   "execution_count": 7,
   "metadata": {
    "collapsed": true
   },
   "outputs": [],
   "source": [
    "fig = plt.figure(figsize=(12, 12))\n",
    "ax = plt.axes(projection=imagery.crs)\n",
    "ax.set_extent((DLO[0],DLO[1],DLA[0],DLA[1]))\n",
    "# # Add the imagery to the map.\n",
    "ax.add_image(imagery, 13)\n",
    "fig.savefig('traffic_frames/mapST.jpg',bbox_inches='tight',dpi=96)\n",
    "plt.close();"
   ]
  },
  {
   "cell_type": "code",
   "execution_count": 8,
   "metadata": {
    "collapsed": true
   },
   "outputs": [],
   "source": [
    "month_names=\"January February March April May June July August September October November December\".split(\" \")"
   ]
  },
  {
   "cell_type": "code",
   "execution_count": 9,
   "metadata": {
    "collapsed": true
   },
   "outputs": [],
   "source": [
    "debit_min = df['AVG(debit)'].min()\n",
    "debit_max = df['AVG(debit)'].max()\n",
    "norm = plt.Normalize(vmin=debit_min,vmax=debit_max)"
   ]
  },
  {
   "cell_type": "code",
   "execution_count": 11,
   "metadata": {},
   "outputs": [
    {
     "data": {
      "application/vnd.jupyter.widget-view+json": {
       "model_id": "3d08e8d989a84723bc49ad3e74142244"
      }
     },
     "metadata": {},
     "output_type": "display_data"
    }
   ],
   "source": [
    "fig = plt.figure(figsize=(12, 12))\n",
    "ax = plt.axes(projection=imagery.crs)\n",
    "\n",
    "dx = DLO[1]-DLO[0]\n",
    "dy = DLA[1]-DLA[0]\n",
    "eps = 0/100.\n",
    "extent = (DLO[0]-eps*dx,DLO[1]+eps*dx,DLA[0]-eps*dy,DLA[1]+eps*dy)\n",
    "\n",
    "for time in tqdm(sorted(df.time.unique())):\n",
    "\n",
    "    ax.set_extent(extent)\n",
    "    dftimed = df2[df2.time==time]\n",
    "    try:\n",
    "        curr_month = dftimed.index.get_level_values('month').values.mean()\n",
    "        curr_month = int(curr_month)\n",
    "        curr_hour  = dftimed.index.get_level_values('hour').values.mean()\n",
    "    except:\n",
    "        curr_month = dftimed.month.mean()\n",
    "        curr_month = int(curr_month)\n",
    "        curr_hour  = dftimed.hour.mean()\n",
    "\n",
    "    xs,ys,vs = dftimed[['lon','lat','AVG(debit)']].values.T\n",
    "    xi_x,xi_y = np.mgrid[DLO[0]:DLO[1]:100j,DLA[0]:DLA[1]:100j]\n",
    "    vs = norm(vs)\n",
    "    vi = griddata(zip(xs,ys),vs,(xi_x,xi_y),method='linear').T\n",
    "    vs = plt.Normalize()(vs)\n",
    "\n",
    "    ax.imshow(vi,extent=extent,\n",
    "              transform=crs.PlateCarree(),cmap=plt.cm.jet,\n",
    "              alpha=.25,zorder=10)\n",
    "\n",
    "    ax.scatter(xs, ys, transform=crs.PlateCarree(), c=plt.cm.jet(vs), s=vs*200,lw=0,zorder=11)\n",
    "    ax.text(0.85,0.7,\"{1:.0f}:00 {0:s}\".format(month_names[curr_month-1],curr_hour),\n",
    "            fontsize=18, transform=ax.transAxes,va='center',ha='right', bbox=dict(facecolor='w', alpha=0.75),\n",
    "           fontproperties=font0,zorder=11)\n",
    "    ax.text(0,0,\"Copyright (C) 2017 Guglielmo Saggiorato - map: Stamen Toner - data: opendata.paris.fr\",fontsize=10,\n",
    "           fontproperties=font0,transform=ax.transAxes,va='bottom',ha='left',zorder = 12)\n",
    "    \n",
    "    # make invisibility coat for the background\n",
    "    ax.outline_patch.set_visible(False)\n",
    "    ax.background_patch.set_visible(False)\n",
    "    \n",
    "    fout = 'fr{0:04d}'.format(time)\n",
    "    fig.savefig('traffic_frames/{0:s}.png'.format(fout),bbox_inches='tight',dpi=96,transparent=True)\n",
    "    \n",
    "    os.system('convert traffic_frames/mapST.jpg traffic_frames/{0:s}.png -layers merge traffic_frames/combined/{0:s}.jpg'.format(fout))\n",
    "    ax.cla()\n",
    "#     break\n",
    "plt.close()"
   ]
  },
  {
   "cell_type": "code",
   "execution_count": 35,
   "metadata": {},
   "outputs": [
    {
     "data": {
      "text/plain": [
       "0"
      ]
     },
     "execution_count": 35,
     "metadata": {},
     "output_type": "execute_result"
    }
   ],
   "source": [
    "cmd = \"rm {fout:s}; cat {indir:s}/*.jpg | ffmpeg -f image2pipe -r {rate:d} -i - -vf scale={xscale:d}:-1 -c:v libvpx-vp9 -b:v 2M {fout:s}\"\n",
    "cm = cmd.format(fout='traffic_25.webm',indir='traffic_frames/combined/',rate=10,xscale=640)\n",
    "os.system(cm)"
   ]
  },
  {
   "cell_type": "code",
   "execution_count": 11,
   "metadata": {},
   "outputs": [
    {
     "data": {
      "text/html": [
       "<center>\n",
       "<video width=\"640\"  controls>\n",
       "  <source src=\"traffic_25.webm\" type=\"video/webm\">\n",
       "</video>\n",
       "</center>"
      ],
      "text/plain": [
       "<IPython.core.display.HTML object>"
      ]
     },
     "metadata": {},
     "output_type": "display_data"
    }
   ],
   "source": [
    "%%HTML\n",
    "<center>\n",
    "<video width=\"640\"  controls>\n",
    "  <source src=\"traffic_25.webm\" type=\"video/webm\">\n",
    "</video>\n",
    "</center>"
   ]
  },
  {
   "cell_type": "code",
   "execution_count": null,
   "metadata": {
    "collapsed": true
   },
   "outputs": [],
   "source": []
  }
 ],
 "metadata": {
  "kernelspec": {
   "display_name": "Python [conda root]",
   "language": "python",
   "name": "conda-root-py"
  },
  "language_info": {
   "codemirror_mode": {
    "name": "ipython",
    "version": 2
   },
   "file_extension": ".py",
   "mimetype": "text/x-python",
   "name": "python",
   "nbconvert_exporter": "python",
   "pygments_lexer": "ipython2",
   "version": "2.7.13"
  }
 },
 "nbformat": 4,
 "nbformat_minor": 2
}
